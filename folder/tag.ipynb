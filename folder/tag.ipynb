{
 "cells": [
  {
   "cell_type": "code",
   "execution_count": 2,
   "metadata": {},
   "outputs": [
    {
     "name": "stderr",
     "output_type": "stream",
     "text": [
      "Processing hiphop: 100%|██████████| 100/100 [00:27<00:00,  3.61file/s]\n",
      "Processing metal: 100%|██████████| 100/100 [00:26<00:00,  3.71file/s]\n",
      "Processing rock: 100%|██████████| 100/100 [00:26<00:00,  3.71file/s]\n",
      "Processing jazz: 100%|██████████| 100/100 [00:26<00:00,  3.71file/s]\n",
      "Processing reggae: 100%|██████████| 100/100 [00:27<00:00,  3.64file/s]\n",
      "Processing blues: 100%|██████████| 100/100 [00:26<00:00,  3.71file/s]\n",
      "Processing country: 100%|██████████| 100/100 [00:26<00:00,  3.71file/s]\n",
      "Processing disco: 100%|██████████| 100/100 [00:27<00:00,  3.69file/s]\n",
      "Processing classical: 100%|██████████| 100/100 [00:27<00:00,  3.69file/s]\n",
      "Processing pop: 100%|██████████| 100/100 [00:27<00:00,  3.68file/s]\n"
     ]
    },
    {
     "name": "stdout",
     "output_type": "stream",
     "text": [
      "Accuracy: 68.50%\n",
      "Precision: 69.55%\n",
      "Recall: 68.50%\n",
      "F1 Score: 68.14%\n"
     ]
    }
   ],
   "source": [
    "import os\n",
    "import librosa\n",
    "import numpy as np\n",
    "from sklearn.model_selection import train_test_split\n",
    "from sklearn.ensemble import RandomForestClassifier\n",
    "from sklearn.metrics import accuracy_score, precision_score, recall_score, f1_score\n",
    "from tqdm import tqdm\n",
    "\n",
    "# Define the path to your dataset\n",
    "data_path = '/home/sreenath/Work/genres'\n",
    "\n",
    "# List all genres\n",
    "genres = os.listdir(data_path)\n",
    "\n",
    "# Initialize lists to hold data and labels\n",
    "data = []\n",
    "labels = []\n",
    "\n",
    "# Function to extract features from an audio file\n",
    "def extract_features(file_path):\n",
    "    y, sr = librosa.load(file_path, duration=30)  # Limiting to 30 seconds for consistency\n",
    "    mfccs = librosa.feature.mfcc(y=y, sr=sr, n_mfcc=13)\n",
    "    chroma = librosa.feature.chroma_stft(y=y, sr=sr)\n",
    "    mel = librosa.feature.melspectrogram(y=y, sr=sr)\n",
    "    contrast = librosa.feature.spectral_contrast(y=y, sr=sr)\n",
    "    return np.hstack((np.mean(mfccs, axis=1), np.mean(chroma, axis=1), np.mean(mel, axis=1), np.mean(contrast, axis=1)))\n",
    "\n",
    "# Loop through each genre and process files with a progress bar\n",
    "for genre in genres:\n",
    "    genre_path = os.path.join(data_path, genre)\n",
    "    for file_name in tqdm(os.listdir(genre_path), desc=f'Processing {genre}', unit='file'):\n",
    "        if file_name.endswith('.au'):\n",
    "            file_path = os.path.join(genre_path, file_name)\n",
    "            try:\n",
    "                features = extract_features(file_path)\n",
    "                data.append(features)\n",
    "                labels.append(genre)\n",
    "            except Exception as e:\n",
    "                print(f\"Error processing {file_path}: {e}\")\n",
    "\n",
    "# Convert lists to numpy arrays\n",
    "data = np.array(data)\n",
    "labels = np.array(labels)\n",
    "\n",
    "# Encode labels to numerical values\n",
    "from sklearn.preprocessing import LabelEncoder\n",
    "le = LabelEncoder()\n",
    "labels = le.fit_transform(labels)\n",
    "\n",
    "# Split the data into training and testing sets\n",
    "X_train, X_test, y_train, y_test = train_test_split(data, labels, test_size=0.2, random_state=42)\n",
    "\n",
    "# Train a RandomForest Classifier\n",
    "model = RandomForestClassifier(n_estimators=100, random_state=42)\n",
    "model.fit(X_train, y_train)\n",
    "\n",
    "# Make predictions on the test data\n",
    "y_pred = model.predict(X_test)\n",
    "\n",
    "# Evaluate the model\n",
    "accuracy = accuracy_score(y_test, y_pred)\n",
    "precision = precision_score(y_test, y_pred, average='weighted')\n",
    "recall = recall_score(y_test, y_pred, average='weighted')\n",
    "f1 = f1_score(y_test, y_pred, average='weighted')\n",
    "\n",
    "# Display metrics\n",
    "print(f\"Accuracy: {accuracy * 100:.2f}%\")\n",
    "print(f\"Precision: {precision * 100:.2f}%\")\n",
    "print(f\"Recall: {recall * 100:.2f}%\")\n",
    "print(f\"F1 Score: {f1 * 100:.2f}%\")\n"
   ]
  },
  {
   "cell_type": "code",
   "execution_count": 3,
   "metadata": {},
   "outputs": [
    {
     "name": "stdout",
     "output_type": "stream",
     "text": [
      "Total samples: 1000\n"
     ]
    }
   ],
   "source": [
    "print(f\"Total samples: {len(data)}\")\n",
    "\n",
    "# Save the extracted features and labels\n",
    "np.save('features.npy', data)\n",
    "np.save('labels.npy', labels)"
   ]
  },
  {
   "cell_type": "code",
   "execution_count": 4,
   "metadata": {},
   "outputs": [
    {
     "name": "stdout",
     "output_type": "stream",
     "text": [
      "Accuracy: 68.50%\n",
      "              precision    recall  f1-score   support\n",
      "\n",
      "           0       0.64      0.73      0.68        22\n",
      "           1       0.95      0.91      0.93        23\n",
      "           2       0.65      0.60      0.62        25\n",
      "           3       0.43      0.69      0.53        13\n",
      "           4       0.86      0.60      0.71        20\n",
      "           5       0.74      0.67      0.70        21\n",
      "           6       0.81      1.00      0.90        13\n",
      "           7       0.76      0.90      0.83        21\n",
      "           8       0.47      0.53      0.50        15\n",
      "           9       0.56      0.37      0.44        27\n",
      "\n",
      "    accuracy                           0.69       200\n",
      "   macro avg       0.69      0.70      0.68       200\n",
      "weighted avg       0.70      0.69      0.68       200\n",
      "\n"
     ]
    }
   ],
   "source": [
    "from sklearn.metrics import accuracy_score, classification_report\n",
    "\n",
    "# Predict on the test set\n",
    "y_pred = model.predict(X_test)\n",
    "\n",
    "# Calculate Accuracy\n",
    "accuracy = accuracy_score(y_test, y_pred)\n",
    "print(f'Accuracy: {accuracy * 100:.2f}%')\n",
    "\n",
    "# Detailed Classification Report\n",
    "report = classification_report(y_test, y_pred)\n",
    "print(report)\n",
    "\n"
   ]
  },
  {
   "cell_type": "code",
   "execution_count": 7,
   "metadata": {},
   "outputs": [
    {
     "name": "stdout",
     "output_type": "stream",
     "text": [
      "The predicted genre for the new audio file is: blues\n"
     ]
    },
    {
     "name": "stderr",
     "output_type": "stream",
     "text": [
      "/home/sreenath/Work/myenv/lib/python3.12/site-packages/sklearn/preprocessing/_label.py:153: DataConversionWarning: A column-vector y was passed when a 1d array was expected. Please change the shape of y to (n_samples, ), for example using ravel().\n",
      "  y = column_or_1d(y, warn=True)\n"
     ]
    }
   ],
   "source": [
    "import librosa\n",
    "import numpy as np\n",
    "\n",
    "# Function to extract features from a new audio file (same as before)\n",
    "def extract_features(file_path):\n",
    "    y, sr = librosa.load(file_path, duration=30)  # Limiting to 30 seconds for consistency\n",
    "    mfccs = librosa.feature.mfcc(y=y, sr=sr, n_mfcc=13)\n",
    "    chroma = librosa.feature.chroma_stft(y=y, sr=sr)\n",
    "    mel = librosa.feature.melspectrogram(y=y, sr=sr)\n",
    "    contrast = librosa.feature.spectral_contrast(y=y, sr=sr)\n",
    "    return np.hstack((np.mean(mfccs, axis=1), np.mean(chroma, axis=1), np.mean(mel, axis=1), np.mean(contrast, axis=1)))\n",
    "\n",
    "# Load the new audio file (change 'path_to_new_audio' to the path of your file)\n",
    "new_audio_path = '/home/sreenath/Work/genres/blues/blues.00072.au'\n",
    "features = extract_features(new_audio_path)\n",
    "\n",
    "# Reshape features for the classifier (since it's a single sample, it needs a 2D shape)\n",
    "features = features.reshape(1, -1)\n",
    "\n",
    "# Predict the genre using the trained model\n",
    "predicted_genre_index = model.predict(features)\n",
    "\n",
    "# Convert numerical prediction back to genre label\n",
    "predicted_genre = le.inverse_transform([predicted_genre_index])\n",
    "\n",
    "print(f\"The predicted genre for the new audio file is: {predicted_genre[0]}\")\n"
   ]
  }
 ],
 "metadata": {
  "kernelspec": {
   "display_name": "myenv",
   "language": "python",
   "name": "python3"
  },
  "language_info": {
   "codemirror_mode": {
    "name": "ipython",
    "version": 3
   },
   "file_extension": ".py",
   "mimetype": "text/x-python",
   "name": "python",
   "nbconvert_exporter": "python",
   "pygments_lexer": "ipython3",
   "version": "3.12.3"
  }
 },
 "nbformat": 4,
 "nbformat_minor": 2
}
